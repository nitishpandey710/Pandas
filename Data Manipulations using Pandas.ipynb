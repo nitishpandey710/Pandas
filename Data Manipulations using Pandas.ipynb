{
 "cells": [
  {
   "cell_type": "code",
   "execution_count": 11,
   "id": "23907ccd-1888-486b-858d-83df6e08d757",
   "metadata": {},
   "outputs": [],
   "source": [
    "import pandas as pd\n",
    "import os"
   ]
  },
  {
   "cell_type": "code",
   "execution_count": 12,
   "id": "123a0414-bf53-45ed-9234-3e7bd5d7543a",
   "metadata": {},
   "outputs": [
    {
     "data": {
      "text/plain": [
       "'C:\\\\Users\\\\nitis\\\\Downloads'"
      ]
     },
     "execution_count": 12,
     "metadata": {},
     "output_type": "execute_result"
    }
   ],
   "source": [
    "os.getcwd()"
   ]
  },
  {
   "cell_type": "code",
   "execution_count": 13,
   "id": "51dc46be-9001-484b-96ef-648ae0d169d4",
   "metadata": {},
   "outputs": [],
   "source": [
    "os.chdir(\"C:/Users/nitis/Downloads/\")"
   ]
  },
  {
   "cell_type": "code",
   "execution_count": 14,
   "id": "b13c8742-fa05-4ab1-9ecb-8f2d1014fe2b",
   "metadata": {},
   "outputs": [],
   "source": [
    "df=pd.read_csv(\"Employee_dataset.csv\")"
   ]
  },
  {
   "cell_type": "code",
   "execution_count": 15,
   "id": "24c9b57e-b1b7-44bd-8bcc-5858480f1197",
   "metadata": {},
   "outputs": [
    {
     "data": {
      "text/plain": [
       "(18, 7)"
      ]
     },
     "execution_count": 15,
     "metadata": {},
     "output_type": "execute_result"
    }
   ],
   "source": [
    "df.shape"
   ]
  },
  {
   "cell_type": "code",
   "execution_count": 16,
   "id": "208cc963-21c8-4472-a4cc-a051fa7c92d7",
   "metadata": {},
   "outputs": [
    {
     "data": {
      "text/html": [
       "<div>\n",
       "<style scoped>\n",
       "    .dataframe tbody tr th:only-of-type {\n",
       "        vertical-align: middle;\n",
       "    }\n",
       "\n",
       "    .dataframe tbody tr th {\n",
       "        vertical-align: top;\n",
       "    }\n",
       "\n",
       "    .dataframe thead th {\n",
       "        text-align: right;\n",
       "    }\n",
       "</style>\n",
       "<table border=\"1\" class=\"dataframe\">\n",
       "  <thead>\n",
       "    <tr style=\"text-align: right;\">\n",
       "      <th></th>\n",
       "      <th>Name</th>\n",
       "      <th>Age</th>\n",
       "      <th>Gender</th>\n",
       "      <th>Department</th>\n",
       "      <th>Salary</th>\n",
       "      <th>Joining_Date</th>\n",
       "      <th>Rating</th>\n",
       "    </tr>\n",
       "  </thead>\n",
       "  <tbody>\n",
       "    <tr>\n",
       "      <th>0</th>\n",
       "      <td>Alice</td>\n",
       "      <td>25</td>\n",
       "      <td>F</td>\n",
       "      <td>HR</td>\n",
       "      <td>50000</td>\n",
       "      <td>2015-04-12</td>\n",
       "      <td>3.2</td>\n",
       "    </tr>\n",
       "    <tr>\n",
       "      <th>1</th>\n",
       "      <td>Bob</td>\n",
       "      <td>32</td>\n",
       "      <td>M</td>\n",
       "      <td>Engineering</td>\n",
       "      <td>80000</td>\n",
       "      <td>2012-06-30</td>\n",
       "      <td>4.1</td>\n",
       "    </tr>\n",
       "    <tr>\n",
       "      <th>2</th>\n",
       "      <td>Charlie</td>\n",
       "      <td>37</td>\n",
       "      <td>M</td>\n",
       "      <td>HR</td>\n",
       "      <td>52000</td>\n",
       "      <td>2018-07-19</td>\n",
       "      <td>3.8</td>\n",
       "    </tr>\n",
       "    <tr>\n",
       "      <th>3</th>\n",
       "      <td>David</td>\n",
       "      <td>45</td>\n",
       "      <td>M</td>\n",
       "      <td>Engineering</td>\n",
       "      <td>87000</td>\n",
       "      <td>2010-08-01</td>\n",
       "      <td>4.5</td>\n",
       "    </tr>\n",
       "    <tr>\n",
       "      <th>4</th>\n",
       "      <td>Eve</td>\n",
       "      <td>22</td>\n",
       "      <td>F</td>\n",
       "      <td>Marketing</td>\n",
       "      <td>45000</td>\n",
       "      <td>2019-02-28</td>\n",
       "      <td>3.0</td>\n",
       "    </tr>\n",
       "    <tr>\n",
       "      <th>5</th>\n",
       "      <td>Frank</td>\n",
       "      <td>29</td>\n",
       "      <td>M</td>\n",
       "      <td>Marketing</td>\n",
       "      <td>47000</td>\n",
       "      <td>2020-03-15</td>\n",
       "      <td>2.8</td>\n",
       "    </tr>\n",
       "    <tr>\n",
       "      <th>6</th>\n",
       "      <td>Grace</td>\n",
       "      <td>41</td>\n",
       "      <td>F</td>\n",
       "      <td>HR</td>\n",
       "      <td>51000</td>\n",
       "      <td>2017-01-10</td>\n",
       "      <td>3.6</td>\n",
       "    </tr>\n",
       "    <tr>\n",
       "      <th>7</th>\n",
       "      <td>Hannah</td>\n",
       "      <td>36</td>\n",
       "      <td>F</td>\n",
       "      <td>Engineering</td>\n",
       "      <td>78000</td>\n",
       "      <td>2013-09-25</td>\n",
       "      <td>4.2</td>\n",
       "    </tr>\n",
       "    <tr>\n",
       "      <th>8</th>\n",
       "      <td>Ivan</td>\n",
       "      <td>34</td>\n",
       "      <td>M</td>\n",
       "      <td>Engineering</td>\n",
       "      <td>82000</td>\n",
       "      <td>2014-05-18</td>\n",
       "      <td>4.0</td>\n",
       "    </tr>\n",
       "    <tr>\n",
       "      <th>9</th>\n",
       "      <td>Julia</td>\n",
       "      <td>28</td>\n",
       "      <td>F</td>\n",
       "      <td>HR</td>\n",
       "      <td>51000</td>\n",
       "      <td>2016-11-01</td>\n",
       "      <td>3.3</td>\n",
       "    </tr>\n",
       "    <tr>\n",
       "      <th>10</th>\n",
       "      <td>Karl</td>\n",
       "      <td>39</td>\n",
       "      <td>M</td>\n",
       "      <td>Marketing</td>\n",
       "      <td>46000</td>\n",
       "      <td>2019-08-23</td>\n",
       "      <td>3.1</td>\n",
       "    </tr>\n",
       "    <tr>\n",
       "      <th>11</th>\n",
       "      <td>Laura</td>\n",
       "      <td>30</td>\n",
       "      <td>F</td>\n",
       "      <td>Engineering</td>\n",
       "      <td>83000</td>\n",
       "      <td>2011-12-10</td>\n",
       "      <td>4.4</td>\n",
       "    </tr>\n",
       "    <tr>\n",
       "      <th>12</th>\n",
       "      <td>Mike</td>\n",
       "      <td>42</td>\n",
       "      <td>M</td>\n",
       "      <td>HR</td>\n",
       "      <td>52000</td>\n",
       "      <td>2015-01-05</td>\n",
       "      <td>3.7</td>\n",
       "    </tr>\n",
       "    <tr>\n",
       "      <th>13</th>\n",
       "      <td>Nina</td>\n",
       "      <td>27</td>\n",
       "      <td>F</td>\n",
       "      <td>Marketing</td>\n",
       "      <td>47000</td>\n",
       "      <td>2021-04-18</td>\n",
       "      <td>2.9</td>\n",
       "    </tr>\n",
       "    <tr>\n",
       "      <th>14</th>\n",
       "      <td>Oscar</td>\n",
       "      <td>33</td>\n",
       "      <td>M</td>\n",
       "      <td>HR</td>\n",
       "      <td>50000</td>\n",
       "      <td>2018-06-14</td>\n",
       "      <td>3.4</td>\n",
       "    </tr>\n",
       "    <tr>\n",
       "      <th>15</th>\n",
       "      <td>Paul</td>\n",
       "      <td>38</td>\n",
       "      <td>M</td>\n",
       "      <td>Engineering</td>\n",
       "      <td>86000</td>\n",
       "      <td>2010-03-22</td>\n",
       "      <td>4.6</td>\n",
       "    </tr>\n",
       "    <tr>\n",
       "      <th>16</th>\n",
       "      <td>Queen</td>\n",
       "      <td>29</td>\n",
       "      <td>F</td>\n",
       "      <td>Marketing</td>\n",
       "      <td>48000</td>\n",
       "      <td>2022-07-07</td>\n",
       "      <td>2.7</td>\n",
       "    </tr>\n",
       "    <tr>\n",
       "      <th>17</th>\n",
       "      <td>Rick</td>\n",
       "      <td>40</td>\n",
       "      <td>M</td>\n",
       "      <td>HR</td>\n",
       "      <td>54000</td>\n",
       "      <td>2013-10-10</td>\n",
       "      <td>3.5</td>\n",
       "    </tr>\n",
       "  </tbody>\n",
       "</table>\n",
       "</div>"
      ],
      "text/plain": [
       "       Name  Age Gender   Department  Salary Joining_Date  Rating\n",
       "0     Alice   25      F           HR   50000   2015-04-12     3.2\n",
       "1       Bob   32      M  Engineering   80000   2012-06-30     4.1\n",
       "2   Charlie   37      M           HR   52000   2018-07-19     3.8\n",
       "3     David   45      M  Engineering   87000   2010-08-01     4.5\n",
       "4       Eve   22      F    Marketing   45000   2019-02-28     3.0\n",
       "5     Frank   29      M    Marketing   47000   2020-03-15     2.8\n",
       "6     Grace   41      F           HR   51000   2017-01-10     3.6\n",
       "7    Hannah   36      F  Engineering   78000   2013-09-25     4.2\n",
       "8      Ivan   34      M  Engineering   82000   2014-05-18     4.0\n",
       "9     Julia   28      F           HR   51000   2016-11-01     3.3\n",
       "10     Karl   39      M    Marketing   46000   2019-08-23     3.1\n",
       "11    Laura   30      F  Engineering   83000   2011-12-10     4.4\n",
       "12     Mike   42      M           HR   52000   2015-01-05     3.7\n",
       "13     Nina   27      F    Marketing   47000   2021-04-18     2.9\n",
       "14    Oscar   33      M           HR   50000   2018-06-14     3.4\n",
       "15     Paul   38      M  Engineering   86000   2010-03-22     4.6\n",
       "16    Queen   29      F    Marketing   48000   2022-07-07     2.7\n",
       "17     Rick   40      M           HR   54000   2013-10-10     3.5"
      ]
     },
     "execution_count": 16,
     "metadata": {},
     "output_type": "execute_result"
    }
   ],
   "source": [
    "df"
   ]
  },
  {
   "cell_type": "markdown",
   "id": "b2a5dbe6-e25d-4889-9e18-fb8d6211e9e5",
   "metadata": {},
   "source": [
    "## 1: find the average salary department-wise"
   ]
  },
  {
   "cell_type": "code",
   "execution_count": 22,
   "id": "ee21371b-bbaa-4368-b10d-2925f98b9983",
   "metadata": {},
   "outputs": [
    {
     "data": {
      "text/plain": [
       "Department\n",
       "Engineering    82666.666667\n",
       "HR             51428.571429\n",
       "Marketing      46600.000000\n",
       "Name: Salary, dtype: float64"
      ]
     },
     "execution_count": 22,
     "metadata": {},
     "output_type": "execute_result"
    }
   ],
   "source": [
    "df.groupby('Department')['Salary'].mean()"
   ]
  },
  {
   "cell_type": "markdown",
   "id": "3c86e747-67b7-42d3-a414-356ca8779d1d",
   "metadata": {},
   "source": [
    "## 2: Which employee has the highest rating"
   ]
  },
  {
   "cell_type": "code",
   "execution_count": 39,
   "id": "855d6702-b261-4eea-8846-275584695b99",
   "metadata": {},
   "outputs": [
    {
     "data": {
      "text/plain": [
       "Name                   Paul\n",
       "Age                      38\n",
       "Gender                    M\n",
       "Department      Engineering\n",
       "Salary                86000\n",
       "Joining_Date     2010-03-22\n",
       "Rating                  4.6\n",
       "Name: 15, dtype: object"
      ]
     },
     "execution_count": 39,
     "metadata": {},
     "output_type": "execute_result"
    }
   ],
   "source": [
    "df['Rating'].idxmax()\n",
    "df.loc[15]"
   ]
  },
  {
   "cell_type": "markdown",
   "id": "34a4c46d-85e7-4a5c-bec9-5eaa5b9f9550",
   "metadata": {},
   "source": [
    "## 3:Get all employees who joined before 2015."
   ]
  },
  {
   "cell_type": "code",
   "execution_count": 45,
   "id": "d3a186c1-1a16-4e36-8505-45a0fd93d653",
   "metadata": {},
   "outputs": [
    {
     "data": {
      "text/html": [
       "<div>\n",
       "<style scoped>\n",
       "    .dataframe tbody tr th:only-of-type {\n",
       "        vertical-align: middle;\n",
       "    }\n",
       "\n",
       "    .dataframe tbody tr th {\n",
       "        vertical-align: top;\n",
       "    }\n",
       "\n",
       "    .dataframe thead th {\n",
       "        text-align: right;\n",
       "    }\n",
       "</style>\n",
       "<table border=\"1\" class=\"dataframe\">\n",
       "  <thead>\n",
       "    <tr style=\"text-align: right;\">\n",
       "      <th></th>\n",
       "      <th>Name</th>\n",
       "      <th>Age</th>\n",
       "      <th>Gender</th>\n",
       "      <th>Department</th>\n",
       "      <th>Salary</th>\n",
       "      <th>Joining_Date</th>\n",
       "      <th>Rating</th>\n",
       "    </tr>\n",
       "  </thead>\n",
       "  <tbody>\n",
       "    <tr>\n",
       "      <th>1</th>\n",
       "      <td>Bob</td>\n",
       "      <td>32</td>\n",
       "      <td>M</td>\n",
       "      <td>Engineering</td>\n",
       "      <td>80000</td>\n",
       "      <td>2012-06-30</td>\n",
       "      <td>4.1</td>\n",
       "    </tr>\n",
       "    <tr>\n",
       "      <th>3</th>\n",
       "      <td>David</td>\n",
       "      <td>45</td>\n",
       "      <td>M</td>\n",
       "      <td>Engineering</td>\n",
       "      <td>87000</td>\n",
       "      <td>2010-08-01</td>\n",
       "      <td>4.5</td>\n",
       "    </tr>\n",
       "    <tr>\n",
       "      <th>7</th>\n",
       "      <td>Hannah</td>\n",
       "      <td>36</td>\n",
       "      <td>F</td>\n",
       "      <td>Engineering</td>\n",
       "      <td>78000</td>\n",
       "      <td>2013-09-25</td>\n",
       "      <td>4.2</td>\n",
       "    </tr>\n",
       "    <tr>\n",
       "      <th>8</th>\n",
       "      <td>Ivan</td>\n",
       "      <td>34</td>\n",
       "      <td>M</td>\n",
       "      <td>Engineering</td>\n",
       "      <td>82000</td>\n",
       "      <td>2014-05-18</td>\n",
       "      <td>4.0</td>\n",
       "    </tr>\n",
       "    <tr>\n",
       "      <th>11</th>\n",
       "      <td>Laura</td>\n",
       "      <td>30</td>\n",
       "      <td>F</td>\n",
       "      <td>Engineering</td>\n",
       "      <td>83000</td>\n",
       "      <td>2011-12-10</td>\n",
       "      <td>4.4</td>\n",
       "    </tr>\n",
       "    <tr>\n",
       "      <th>15</th>\n",
       "      <td>Paul</td>\n",
       "      <td>38</td>\n",
       "      <td>M</td>\n",
       "      <td>Engineering</td>\n",
       "      <td>86000</td>\n",
       "      <td>2010-03-22</td>\n",
       "      <td>4.6</td>\n",
       "    </tr>\n",
       "    <tr>\n",
       "      <th>17</th>\n",
       "      <td>Rick</td>\n",
       "      <td>40</td>\n",
       "      <td>M</td>\n",
       "      <td>HR</td>\n",
       "      <td>54000</td>\n",
       "      <td>2013-10-10</td>\n",
       "      <td>3.5</td>\n",
       "    </tr>\n",
       "  </tbody>\n",
       "</table>\n",
       "</div>"
      ],
      "text/plain": [
       "      Name  Age Gender   Department  Salary Joining_Date  Rating\n",
       "1      Bob   32      M  Engineering   80000   2012-06-30     4.1\n",
       "3    David   45      M  Engineering   87000   2010-08-01     4.5\n",
       "7   Hannah   36      F  Engineering   78000   2013-09-25     4.2\n",
       "8     Ivan   34      M  Engineering   82000   2014-05-18     4.0\n",
       "11   Laura   30      F  Engineering   83000   2011-12-10     4.4\n",
       "15    Paul   38      M  Engineering   86000   2010-03-22     4.6\n",
       "17    Rick   40      M           HR   54000   2013-10-10     3.5"
      ]
     },
     "execution_count": 45,
     "metadata": {},
     "output_type": "execute_result"
    }
   ],
   "source": [
    "df[df['Joining_Date'] < '2015-01-01']"
   ]
  },
  {
   "cell_type": "markdown",
   "id": "7ca56b00-3900-43de-ab71-5d54f08aa5f0",
   "metadata": {},
   "source": [
    "## 4:How many males and females are there in each department?"
   ]
  },
  {
   "cell_type": "code",
   "execution_count": 52,
   "id": "33dc3377-4d67-49fb-b478-6a14677e0369",
   "metadata": {},
   "outputs": [
    {
     "data": {
      "text/html": [
       "<div>\n",
       "<style scoped>\n",
       "    .dataframe tbody tr th:only-of-type {\n",
       "        vertical-align: middle;\n",
       "    }\n",
       "\n",
       "    .dataframe tbody tr th {\n",
       "        vertical-align: top;\n",
       "    }\n",
       "\n",
       "    .dataframe thead th {\n",
       "        text-align: right;\n",
       "    }\n",
       "</style>\n",
       "<table border=\"1\" class=\"dataframe\">\n",
       "  <thead>\n",
       "    <tr style=\"text-align: right;\">\n",
       "      <th>Gender</th>\n",
       "      <th>F</th>\n",
       "      <th>M</th>\n",
       "    </tr>\n",
       "    <tr>\n",
       "      <th>Department</th>\n",
       "      <th></th>\n",
       "      <th></th>\n",
       "    </tr>\n",
       "  </thead>\n",
       "  <tbody>\n",
       "    <tr>\n",
       "      <th>Engineering</th>\n",
       "      <td>2</td>\n",
       "      <td>4</td>\n",
       "    </tr>\n",
       "    <tr>\n",
       "      <th>HR</th>\n",
       "      <td>3</td>\n",
       "      <td>4</td>\n",
       "    </tr>\n",
       "    <tr>\n",
       "      <th>Marketing</th>\n",
       "      <td>3</td>\n",
       "      <td>2</td>\n",
       "    </tr>\n",
       "  </tbody>\n",
       "</table>\n",
       "</div>"
      ],
      "text/plain": [
       "Gender       F  M\n",
       "Department       \n",
       "Engineering  2  4\n",
       "HR           3  4\n",
       "Marketing    3  2"
      ]
     },
     "execution_count": 52,
     "metadata": {},
     "output_type": "execute_result"
    }
   ],
   "source": [
    "pd.crosstab(df['Department'],df['Gender'])"
   ]
  },
  {
   "cell_type": "markdown",
   "id": "63610eff-cce9-4b12-a4d7-d4665c8500ad",
   "metadata": {},
   "source": [
    "## 5: Calculate the age of each employee in days since they joined."
   ]
  },
  {
   "cell_type": "code",
   "execution_count": null,
   "id": "c0884c31-0b26-4063-a72d-0847ee5672c1",
   "metadata": {},
   "outputs": [],
   "source": []
  },
  {
   "cell_type": "markdown",
   "id": "2c4bf8cb-487e-43a5-9251-70457dddf62a",
   "metadata": {},
   "source": [
    "## 6:Create a new column with salary in thousands."
   ]
  },
  {
   "cell_type": "code",
   "execution_count": 54,
   "id": "c1816b43-ab8f-46b1-98b1-c96a80805a83",
   "metadata": {},
   "outputs": [],
   "source": [
    "df['New_Salary']=df['Salary']*1000"
   ]
  },
  {
   "cell_type": "code",
   "execution_count": 55,
   "id": "81bfad5e-a3e6-4152-a2f4-2b79a25e0227",
   "metadata": {},
   "outputs": [
    {
     "data": {
      "text/html": [
       "<div>\n",
       "<style scoped>\n",
       "    .dataframe tbody tr th:only-of-type {\n",
       "        vertical-align: middle;\n",
       "    }\n",
       "\n",
       "    .dataframe tbody tr th {\n",
       "        vertical-align: top;\n",
       "    }\n",
       "\n",
       "    .dataframe thead th {\n",
       "        text-align: right;\n",
       "    }\n",
       "</style>\n",
       "<table border=\"1\" class=\"dataframe\">\n",
       "  <thead>\n",
       "    <tr style=\"text-align: right;\">\n",
       "      <th></th>\n",
       "      <th>Name</th>\n",
       "      <th>Age</th>\n",
       "      <th>Gender</th>\n",
       "      <th>Department</th>\n",
       "      <th>Salary</th>\n",
       "      <th>Joining_Date</th>\n",
       "      <th>Rating</th>\n",
       "      <th>New_Salary</th>\n",
       "    </tr>\n",
       "  </thead>\n",
       "  <tbody>\n",
       "    <tr>\n",
       "      <th>0</th>\n",
       "      <td>Alice</td>\n",
       "      <td>25</td>\n",
       "      <td>F</td>\n",
       "      <td>HR</td>\n",
       "      <td>50000</td>\n",
       "      <td>2015-04-12</td>\n",
       "      <td>3.2</td>\n",
       "      <td>50000000</td>\n",
       "    </tr>\n",
       "    <tr>\n",
       "      <th>1</th>\n",
       "      <td>Bob</td>\n",
       "      <td>32</td>\n",
       "      <td>M</td>\n",
       "      <td>Engineering</td>\n",
       "      <td>80000</td>\n",
       "      <td>2012-06-30</td>\n",
       "      <td>4.1</td>\n",
       "      <td>80000000</td>\n",
       "    </tr>\n",
       "    <tr>\n",
       "      <th>2</th>\n",
       "      <td>Charlie</td>\n",
       "      <td>37</td>\n",
       "      <td>M</td>\n",
       "      <td>HR</td>\n",
       "      <td>52000</td>\n",
       "      <td>2018-07-19</td>\n",
       "      <td>3.8</td>\n",
       "      <td>52000000</td>\n",
       "    </tr>\n",
       "    <tr>\n",
       "      <th>3</th>\n",
       "      <td>David</td>\n",
       "      <td>45</td>\n",
       "      <td>M</td>\n",
       "      <td>Engineering</td>\n",
       "      <td>87000</td>\n",
       "      <td>2010-08-01</td>\n",
       "      <td>4.5</td>\n",
       "      <td>87000000</td>\n",
       "    </tr>\n",
       "    <tr>\n",
       "      <th>4</th>\n",
       "      <td>Eve</td>\n",
       "      <td>22</td>\n",
       "      <td>F</td>\n",
       "      <td>Marketing</td>\n",
       "      <td>45000</td>\n",
       "      <td>2019-02-28</td>\n",
       "      <td>3.0</td>\n",
       "      <td>45000000</td>\n",
       "    </tr>\n",
       "    <tr>\n",
       "      <th>5</th>\n",
       "      <td>Frank</td>\n",
       "      <td>29</td>\n",
       "      <td>M</td>\n",
       "      <td>Marketing</td>\n",
       "      <td>47000</td>\n",
       "      <td>2020-03-15</td>\n",
       "      <td>2.8</td>\n",
       "      <td>47000000</td>\n",
       "    </tr>\n",
       "    <tr>\n",
       "      <th>6</th>\n",
       "      <td>Grace</td>\n",
       "      <td>41</td>\n",
       "      <td>F</td>\n",
       "      <td>HR</td>\n",
       "      <td>51000</td>\n",
       "      <td>2017-01-10</td>\n",
       "      <td>3.6</td>\n",
       "      <td>51000000</td>\n",
       "    </tr>\n",
       "    <tr>\n",
       "      <th>7</th>\n",
       "      <td>Hannah</td>\n",
       "      <td>36</td>\n",
       "      <td>F</td>\n",
       "      <td>Engineering</td>\n",
       "      <td>78000</td>\n",
       "      <td>2013-09-25</td>\n",
       "      <td>4.2</td>\n",
       "      <td>78000000</td>\n",
       "    </tr>\n",
       "    <tr>\n",
       "      <th>8</th>\n",
       "      <td>Ivan</td>\n",
       "      <td>34</td>\n",
       "      <td>M</td>\n",
       "      <td>Engineering</td>\n",
       "      <td>82000</td>\n",
       "      <td>2014-05-18</td>\n",
       "      <td>4.0</td>\n",
       "      <td>82000000</td>\n",
       "    </tr>\n",
       "    <tr>\n",
       "      <th>9</th>\n",
       "      <td>Julia</td>\n",
       "      <td>28</td>\n",
       "      <td>F</td>\n",
       "      <td>HR</td>\n",
       "      <td>51000</td>\n",
       "      <td>2016-11-01</td>\n",
       "      <td>3.3</td>\n",
       "      <td>51000000</td>\n",
       "    </tr>\n",
       "    <tr>\n",
       "      <th>10</th>\n",
       "      <td>Karl</td>\n",
       "      <td>39</td>\n",
       "      <td>M</td>\n",
       "      <td>Marketing</td>\n",
       "      <td>46000</td>\n",
       "      <td>2019-08-23</td>\n",
       "      <td>3.1</td>\n",
       "      <td>46000000</td>\n",
       "    </tr>\n",
       "    <tr>\n",
       "      <th>11</th>\n",
       "      <td>Laura</td>\n",
       "      <td>30</td>\n",
       "      <td>F</td>\n",
       "      <td>Engineering</td>\n",
       "      <td>83000</td>\n",
       "      <td>2011-12-10</td>\n",
       "      <td>4.4</td>\n",
       "      <td>83000000</td>\n",
       "    </tr>\n",
       "    <tr>\n",
       "      <th>12</th>\n",
       "      <td>Mike</td>\n",
       "      <td>42</td>\n",
       "      <td>M</td>\n",
       "      <td>HR</td>\n",
       "      <td>52000</td>\n",
       "      <td>2015-01-05</td>\n",
       "      <td>3.7</td>\n",
       "      <td>52000000</td>\n",
       "    </tr>\n",
       "    <tr>\n",
       "      <th>13</th>\n",
       "      <td>Nina</td>\n",
       "      <td>27</td>\n",
       "      <td>F</td>\n",
       "      <td>Marketing</td>\n",
       "      <td>47000</td>\n",
       "      <td>2021-04-18</td>\n",
       "      <td>2.9</td>\n",
       "      <td>47000000</td>\n",
       "    </tr>\n",
       "    <tr>\n",
       "      <th>14</th>\n",
       "      <td>Oscar</td>\n",
       "      <td>33</td>\n",
       "      <td>M</td>\n",
       "      <td>HR</td>\n",
       "      <td>50000</td>\n",
       "      <td>2018-06-14</td>\n",
       "      <td>3.4</td>\n",
       "      <td>50000000</td>\n",
       "    </tr>\n",
       "    <tr>\n",
       "      <th>15</th>\n",
       "      <td>Paul</td>\n",
       "      <td>38</td>\n",
       "      <td>M</td>\n",
       "      <td>Engineering</td>\n",
       "      <td>86000</td>\n",
       "      <td>2010-03-22</td>\n",
       "      <td>4.6</td>\n",
       "      <td>86000000</td>\n",
       "    </tr>\n",
       "    <tr>\n",
       "      <th>16</th>\n",
       "      <td>Queen</td>\n",
       "      <td>29</td>\n",
       "      <td>F</td>\n",
       "      <td>Marketing</td>\n",
       "      <td>48000</td>\n",
       "      <td>2022-07-07</td>\n",
       "      <td>2.7</td>\n",
       "      <td>48000000</td>\n",
       "    </tr>\n",
       "    <tr>\n",
       "      <th>17</th>\n",
       "      <td>Rick</td>\n",
       "      <td>40</td>\n",
       "      <td>M</td>\n",
       "      <td>HR</td>\n",
       "      <td>54000</td>\n",
       "      <td>2013-10-10</td>\n",
       "      <td>3.5</td>\n",
       "      <td>54000000</td>\n",
       "    </tr>\n",
       "  </tbody>\n",
       "</table>\n",
       "</div>"
      ],
      "text/plain": [
       "       Name  Age Gender   Department  Salary Joining_Date  Rating  New_Salary\n",
       "0     Alice   25      F           HR   50000   2015-04-12     3.2    50000000\n",
       "1       Bob   32      M  Engineering   80000   2012-06-30     4.1    80000000\n",
       "2   Charlie   37      M           HR   52000   2018-07-19     3.8    52000000\n",
       "3     David   45      M  Engineering   87000   2010-08-01     4.5    87000000\n",
       "4       Eve   22      F    Marketing   45000   2019-02-28     3.0    45000000\n",
       "5     Frank   29      M    Marketing   47000   2020-03-15     2.8    47000000\n",
       "6     Grace   41      F           HR   51000   2017-01-10     3.6    51000000\n",
       "7    Hannah   36      F  Engineering   78000   2013-09-25     4.2    78000000\n",
       "8      Ivan   34      M  Engineering   82000   2014-05-18     4.0    82000000\n",
       "9     Julia   28      F           HR   51000   2016-11-01     3.3    51000000\n",
       "10     Karl   39      M    Marketing   46000   2019-08-23     3.1    46000000\n",
       "11    Laura   30      F  Engineering   83000   2011-12-10     4.4    83000000\n",
       "12     Mike   42      M           HR   52000   2015-01-05     3.7    52000000\n",
       "13     Nina   27      F    Marketing   47000   2021-04-18     2.9    47000000\n",
       "14    Oscar   33      M           HR   50000   2018-06-14     3.4    50000000\n",
       "15     Paul   38      M  Engineering   86000   2010-03-22     4.6    86000000\n",
       "16    Queen   29      F    Marketing   48000   2022-07-07     2.7    48000000\n",
       "17     Rick   40      M           HR   54000   2013-10-10     3.5    54000000"
      ]
     },
     "execution_count": 55,
     "metadata": {},
     "output_type": "execute_result"
    }
   ],
   "source": [
    "df"
   ]
  },
  {
   "cell_type": "markdown",
   "id": "038a1cd9-074f-4042-9bd9-e50db628a455",
   "metadata": {},
   "source": [
    "## 7. Find employees with a rating between 3.5 and 4.2."
   ]
  },
  {
   "cell_type": "code",
   "execution_count": 56,
   "id": "c2a5b71e-33b4-4252-93b4-3b9c067c5d76",
   "metadata": {},
   "outputs": [],
   "source": [
    "bet=df['Rating'].between(3.5,4.2)"
   ]
  },
  {
   "cell_type": "code",
   "execution_count": 58,
   "id": "cb57f4f1-bb8f-49c5-8814-df9eb2011994",
   "metadata": {},
   "outputs": [
    {
     "data": {
      "text/html": [
       "<div>\n",
       "<style scoped>\n",
       "    .dataframe tbody tr th:only-of-type {\n",
       "        vertical-align: middle;\n",
       "    }\n",
       "\n",
       "    .dataframe tbody tr th {\n",
       "        vertical-align: top;\n",
       "    }\n",
       "\n",
       "    .dataframe thead th {\n",
       "        text-align: right;\n",
       "    }\n",
       "</style>\n",
       "<table border=\"1\" class=\"dataframe\">\n",
       "  <thead>\n",
       "    <tr style=\"text-align: right;\">\n",
       "      <th></th>\n",
       "      <th>Name</th>\n",
       "      <th>Age</th>\n",
       "      <th>Gender</th>\n",
       "      <th>Department</th>\n",
       "      <th>Salary</th>\n",
       "      <th>Joining_Date</th>\n",
       "      <th>Rating</th>\n",
       "      <th>New_Salary</th>\n",
       "    </tr>\n",
       "  </thead>\n",
       "  <tbody>\n",
       "    <tr>\n",
       "      <th>1</th>\n",
       "      <td>Bob</td>\n",
       "      <td>32</td>\n",
       "      <td>M</td>\n",
       "      <td>Engineering</td>\n",
       "      <td>80000</td>\n",
       "      <td>2012-06-30</td>\n",
       "      <td>4.1</td>\n",
       "      <td>80000000</td>\n",
       "    </tr>\n",
       "    <tr>\n",
       "      <th>2</th>\n",
       "      <td>Charlie</td>\n",
       "      <td>37</td>\n",
       "      <td>M</td>\n",
       "      <td>HR</td>\n",
       "      <td>52000</td>\n",
       "      <td>2018-07-19</td>\n",
       "      <td>3.8</td>\n",
       "      <td>52000000</td>\n",
       "    </tr>\n",
       "    <tr>\n",
       "      <th>6</th>\n",
       "      <td>Grace</td>\n",
       "      <td>41</td>\n",
       "      <td>F</td>\n",
       "      <td>HR</td>\n",
       "      <td>51000</td>\n",
       "      <td>2017-01-10</td>\n",
       "      <td>3.6</td>\n",
       "      <td>51000000</td>\n",
       "    </tr>\n",
       "    <tr>\n",
       "      <th>7</th>\n",
       "      <td>Hannah</td>\n",
       "      <td>36</td>\n",
       "      <td>F</td>\n",
       "      <td>Engineering</td>\n",
       "      <td>78000</td>\n",
       "      <td>2013-09-25</td>\n",
       "      <td>4.2</td>\n",
       "      <td>78000000</td>\n",
       "    </tr>\n",
       "    <tr>\n",
       "      <th>8</th>\n",
       "      <td>Ivan</td>\n",
       "      <td>34</td>\n",
       "      <td>M</td>\n",
       "      <td>Engineering</td>\n",
       "      <td>82000</td>\n",
       "      <td>2014-05-18</td>\n",
       "      <td>4.0</td>\n",
       "      <td>82000000</td>\n",
       "    </tr>\n",
       "    <tr>\n",
       "      <th>12</th>\n",
       "      <td>Mike</td>\n",
       "      <td>42</td>\n",
       "      <td>M</td>\n",
       "      <td>HR</td>\n",
       "      <td>52000</td>\n",
       "      <td>2015-01-05</td>\n",
       "      <td>3.7</td>\n",
       "      <td>52000000</td>\n",
       "    </tr>\n",
       "    <tr>\n",
       "      <th>17</th>\n",
       "      <td>Rick</td>\n",
       "      <td>40</td>\n",
       "      <td>M</td>\n",
       "      <td>HR</td>\n",
       "      <td>54000</td>\n",
       "      <td>2013-10-10</td>\n",
       "      <td>3.5</td>\n",
       "      <td>54000000</td>\n",
       "    </tr>\n",
       "  </tbody>\n",
       "</table>\n",
       "</div>"
      ],
      "text/plain": [
       "       Name  Age Gender   Department  Salary Joining_Date  Rating  New_Salary\n",
       "1       Bob   32      M  Engineering   80000   2012-06-30     4.1    80000000\n",
       "2   Charlie   37      M           HR   52000   2018-07-19     3.8    52000000\n",
       "6     Grace   41      F           HR   51000   2017-01-10     3.6    51000000\n",
       "7    Hannah   36      F  Engineering   78000   2013-09-25     4.2    78000000\n",
       "8      Ivan   34      M  Engineering   82000   2014-05-18     4.0    82000000\n",
       "12     Mike   42      M           HR   52000   2015-01-05     3.7    52000000\n",
       "17     Rick   40      M           HR   54000   2013-10-10     3.5    54000000"
      ]
     },
     "execution_count": 58,
     "metadata": {},
     "output_type": "execute_result"
    }
   ],
   "source": [
    "df[bet]"
   ]
  },
  {
   "cell_type": "markdown",
   "id": "6305c534-5002-4e4e-ac46-326006c35149",
   "metadata": {},
   "source": [
    "## 8: Rank employees within each department by salary"
   ]
  },
  {
   "cell_type": "code",
   "execution_count": null,
   "id": "cfd83b8f-903b-48c7-8bd6-581d65773ad9",
   "metadata": {},
   "outputs": [],
   "source": []
  },
  {
   "cell_type": "markdown",
   "id": "ca14f94d-7ab0-4661-8d26-0381d72c54e4",
   "metadata": {},
   "source": [
    "## 9:Rank employees within each department by salary"
   ]
  },
  {
   "cell_type": "code",
   "execution_count": null,
   "id": "628543fd-1adf-4920-b276-100faf0de2eb",
   "metadata": {},
   "outputs": [],
   "source": []
  },
  {
   "cell_type": "markdown",
   "id": "7b86c03b-475a-490f-9327-6619bb8666aa",
   "metadata": {},
   "source": [
    "## 10:What is the median age by gender"
   ]
  },
  {
   "cell_type": "code",
   "execution_count": 62,
   "id": "25601774-a1a6-4e81-b99e-f76a397bbc2f",
   "metadata": {},
   "outputs": [
    {
     "data": {
      "text/plain": [
       "Gender\n",
       "F    28.5\n",
       "M    37.5\n",
       "Name: Age, dtype: float64"
      ]
     },
     "execution_count": 62,
     "metadata": {},
     "output_type": "execute_result"
    }
   ],
   "source": [
    "df.groupby('Gender')['Age'].median()"
   ]
  },
  {
   "cell_type": "markdown",
   "id": "04b9c8b1-96b1-4b88-bb9b-97a0a30f5b17",
   "metadata": {},
   "source": [
    "## 11: Which department has the highest average rating?"
   ]
  },
  {
   "cell_type": "code",
   "execution_count": 67,
   "id": "b834eff5-673e-4cfa-982f-f5530b7d4945",
   "metadata": {},
   "outputs": [
    {
     "data": {
      "text/plain": [
       "Department\n",
       "Engineering    4.3\n",
       "Name: Rating, dtype: float64"
      ]
     },
     "execution_count": 67,
     "metadata": {},
     "output_type": "execute_result"
    }
   ],
   "source": [
    "df.groupby('Department')['Rating'].mean().sort_values(ascending=False).head(1)"
   ]
  },
  {
   "cell_type": "markdown",
   "id": "9dd67410-f0fe-4f65-9ce4-9b77dbc78d3b",
   "metadata": {},
   "source": [
    "## 12: Get the top 3 earners in the Marketing department."
   ]
  },
  {
   "cell_type": "code",
   "execution_count": 78,
   "id": "23036e15-311a-4b47-8aae-c718bed0e4dc",
   "metadata": {},
   "outputs": [
    {
     "data": {
      "text/plain": [
       "16    48000\n",
       "13    47000\n",
       "5     47000\n",
       "10    46000\n",
       "4     45000\n",
       "Name: Salary, dtype: int64"
      ]
     },
     "execution_count": 78,
     "metadata": {},
     "output_type": "execute_result"
    }
   ],
   "source": [
    "df[df['Department']=='Marketing']['Salary'].sort_values(ascending=False)"
   ]
  },
  {
   "cell_type": "code",
   "execution_count": 81,
   "id": "2c1f9e71-fb16-49dc-8437-dedcf3caadd3",
   "metadata": {},
   "outputs": [
    {
     "data": {
      "text/plain": [
       "Name                 Queen\n",
       "Age                     29\n",
       "Gender                   F\n",
       "Department       Marketing\n",
       "Salary               48000\n",
       "Joining_Date    2022-07-07\n",
       "Rating                 2.7\n",
       "New_Salary        48000000\n",
       "Name: 16, dtype: object"
      ]
     },
     "execution_count": 81,
     "metadata": {},
     "output_type": "execute_result"
    }
   ],
   "source": [
    "df.iloc[16]"
   ]
  },
  {
   "cell_type": "code",
   "execution_count": 82,
   "id": "ec444fbe-8950-44f3-8c69-fa58bf043fa2",
   "metadata": {},
   "outputs": [
    {
     "data": {
      "text/plain": [
       "Name                  Nina\n",
       "Age                     27\n",
       "Gender                   F\n",
       "Department       Marketing\n",
       "Salary               47000\n",
       "Joining_Date    2021-04-18\n",
       "Rating                 2.9\n",
       "New_Salary        47000000\n",
       "Name: 13, dtype: object"
      ]
     },
     "execution_count": 82,
     "metadata": {},
     "output_type": "execute_result"
    }
   ],
   "source": [
    "df.iloc[13]"
   ]
  },
  {
   "cell_type": "code",
   "execution_count": 83,
   "id": "d0971548-96fd-4662-9fa6-b446ce29ad2d",
   "metadata": {},
   "outputs": [
    {
     "data": {
      "text/plain": [
       "Name                 Frank\n",
       "Age                     29\n",
       "Gender                   M\n",
       "Department       Marketing\n",
       "Salary               47000\n",
       "Joining_Date    2020-03-15\n",
       "Rating                 2.8\n",
       "New_Salary        47000000\n",
       "Name: 5, dtype: object"
      ]
     },
     "execution_count": 83,
     "metadata": {},
     "output_type": "execute_result"
    }
   ],
   "source": [
    "df.iloc[5]"
   ]
  },
  {
   "cell_type": "code",
   "execution_count": 84,
   "id": "1ab08f78-30a0-4b5f-a697-e13fa3e7ec05",
   "metadata": {},
   "outputs": [],
   "source": [
    "#Also:This is Easiest"
   ]
  },
  {
   "cell_type": "code",
   "execution_count": 90,
   "id": "8ba53923-8bb8-4d09-9ec8-ac347454323a",
   "metadata": {},
   "outputs": [
    {
     "data": {
      "text/html": [
       "<div>\n",
       "<style scoped>\n",
       "    .dataframe tbody tr th:only-of-type {\n",
       "        vertical-align: middle;\n",
       "    }\n",
       "\n",
       "    .dataframe tbody tr th {\n",
       "        vertical-align: top;\n",
       "    }\n",
       "\n",
       "    .dataframe thead th {\n",
       "        text-align: right;\n",
       "    }\n",
       "</style>\n",
       "<table border=\"1\" class=\"dataframe\">\n",
       "  <thead>\n",
       "    <tr style=\"text-align: right;\">\n",
       "      <th></th>\n",
       "      <th>Name</th>\n",
       "      <th>Age</th>\n",
       "      <th>Gender</th>\n",
       "      <th>Department</th>\n",
       "      <th>Salary</th>\n",
       "      <th>Joining_Date</th>\n",
       "      <th>Rating</th>\n",
       "      <th>New_Salary</th>\n",
       "    </tr>\n",
       "  </thead>\n",
       "  <tbody>\n",
       "    <tr>\n",
       "      <th>16</th>\n",
       "      <td>Queen</td>\n",
       "      <td>29</td>\n",
       "      <td>F</td>\n",
       "      <td>Marketing</td>\n",
       "      <td>48000</td>\n",
       "      <td>2022-07-07</td>\n",
       "      <td>2.7</td>\n",
       "      <td>48000000</td>\n",
       "    </tr>\n",
       "    <tr>\n",
       "      <th>5</th>\n",
       "      <td>Frank</td>\n",
       "      <td>29</td>\n",
       "      <td>M</td>\n",
       "      <td>Marketing</td>\n",
       "      <td>47000</td>\n",
       "      <td>2020-03-15</td>\n",
       "      <td>2.8</td>\n",
       "      <td>47000000</td>\n",
       "    </tr>\n",
       "    <tr>\n",
       "      <th>13</th>\n",
       "      <td>Nina</td>\n",
       "      <td>27</td>\n",
       "      <td>F</td>\n",
       "      <td>Marketing</td>\n",
       "      <td>47000</td>\n",
       "      <td>2021-04-18</td>\n",
       "      <td>2.9</td>\n",
       "      <td>47000000</td>\n",
       "    </tr>\n",
       "  </tbody>\n",
       "</table>\n",
       "</div>"
      ],
      "text/plain": [
       "     Name  Age Gender Department  Salary Joining_Date  Rating  New_Salary\n",
       "16  Queen   29      F  Marketing   48000   2022-07-07     2.7    48000000\n",
       "5   Frank   29      M  Marketing   47000   2020-03-15     2.8    47000000\n",
       "13   Nina   27      F  Marketing   47000   2021-04-18     2.9    47000000"
      ]
     },
     "execution_count": 90,
     "metadata": {},
     "output_type": "execute_result"
    }
   ],
   "source": [
    "df[df['Department']=='Marketing'].nlargest(3,'Salary')"
   ]
  },
  {
   "cell_type": "markdown",
   "id": "9dac79a2-8b9e-4a5b-9e8f-8b87205ecf00",
   "metadata": {},
   "source": [
    "## 13:Which employee has the longest tenure (earliest joining date)"
   ]
  },
  {
   "cell_type": "code",
   "execution_count": 93,
   "id": "f867f4ea-6a01-4a68-94a1-6fe9d90e24ad",
   "metadata": {},
   "outputs": [
    {
     "data": {
      "text/plain": [
       "15    2010-03-22\n",
       "3     2010-08-01\n",
       "11    2011-12-10\n",
       "1     2012-06-30\n",
       "7     2013-09-25\n",
       "17    2013-10-10\n",
       "8     2014-05-18\n",
       "12    2015-01-05\n",
       "0     2015-04-12\n",
       "9     2016-11-01\n",
       "6     2017-01-10\n",
       "14    2018-06-14\n",
       "2     2018-07-19\n",
       "4     2019-02-28\n",
       "10    2019-08-23\n",
       "5     2020-03-15\n",
       "13    2021-04-18\n",
       "16    2022-07-07\n",
       "Name: Joining_Date, dtype: object"
      ]
     },
     "execution_count": 93,
     "metadata": {},
     "output_type": "execute_result"
    }
   ],
   "source": [
    "df['Joining_Date'].sort_values(ascending=True)"
   ]
  },
  {
   "cell_type": "code",
   "execution_count": 94,
   "id": "f30215e1-dcef-4bb2-97c6-51bfcd410d8c",
   "metadata": {},
   "outputs": [
    {
     "data": {
      "text/plain": [
       "Name                   Paul\n",
       "Age                      38\n",
       "Gender                    M\n",
       "Department      Engineering\n",
       "Salary                86000\n",
       "Joining_Date     2010-03-22\n",
       "Rating                  4.6\n",
       "New_Salary         86000000\n",
       "Name: 15, dtype: object"
      ]
     },
     "execution_count": 94,
     "metadata": {},
     "output_type": "execute_result"
    }
   ],
   "source": [
    "df.iloc[15]"
   ]
  },
  {
   "cell_type": "code",
   "execution_count": 95,
   "id": "4c363ed2-75b5-4157-b588-5add52621475",
   "metadata": {},
   "outputs": [],
   "source": [
    "#Also"
   ]
  },
  {
   "cell_type": "code",
   "execution_count": 99,
   "id": "372923cb-7d7d-4a2f-a5e3-60085b29220c",
   "metadata": {},
   "outputs": [
    {
     "data": {
      "text/plain": [
       "Name                   Paul\n",
       "Age                      38\n",
       "Gender                    M\n",
       "Department      Engineering\n",
       "Salary                86000\n",
       "Joining_Date     2010-03-22\n",
       "Rating                  4.6\n",
       "New_Salary         86000000\n",
       "Name: 15, dtype: object"
      ]
     },
     "execution_count": 99,
     "metadata": {},
     "output_type": "execute_result"
    }
   ],
   "source": [
    "df.iloc[df['Joining_Date'].idxmin()]"
   ]
  },
  {
   "cell_type": "markdown",
   "id": "77f754cc-cb26-44ae-9e6b-6671c82fa4cc",
   "metadata": {},
   "source": [
    "## 14:Count of employees who have rating less than 3 and salary more than 50000."
   ]
  },
  {
   "cell_type": "code",
   "execution_count": 103,
   "id": "556c8f03-c4bb-4621-a7cc-d03d5e9a717a",
   "metadata": {},
   "outputs": [
    {
     "data": {
      "text/plain": [
       "0"
      ]
     },
     "execution_count": 103,
     "metadata": {},
     "output_type": "execute_result"
    }
   ],
   "source": [
    "df[(df['Rating'] < 3) & (df['Salary'] > 50000)].shape[0]"
   ]
  },
  {
   "cell_type": "markdown",
   "id": "e551f841-afb1-4c67-bc01-81c088922e1b",
   "metadata": {},
   "source": [
    "## 15:Get a pivot table showing average salary by department and gender."
   ]
  },
  {
   "cell_type": "code",
   "execution_count": 104,
   "id": "5dcc8446-567a-4a5b-8e7b-9f4b94494e61",
   "metadata": {},
   "outputs": [],
   "source": [
    "pivot_table = pd.pivot_table(df, values='Salary', index='Department', columns='Gender', aggfunc='mean')"
   ]
  },
  {
   "cell_type": "code",
   "execution_count": 105,
   "id": "411e4207-b629-421b-b5b4-450ecb3920d4",
   "metadata": {},
   "outputs": [
    {
     "data": {
      "text/html": [
       "<div>\n",
       "<style scoped>\n",
       "    .dataframe tbody tr th:only-of-type {\n",
       "        vertical-align: middle;\n",
       "    }\n",
       "\n",
       "    .dataframe tbody tr th {\n",
       "        vertical-align: top;\n",
       "    }\n",
       "\n",
       "    .dataframe thead th {\n",
       "        text-align: right;\n",
       "    }\n",
       "</style>\n",
       "<table border=\"1\" class=\"dataframe\">\n",
       "  <thead>\n",
       "    <tr style=\"text-align: right;\">\n",
       "      <th>Gender</th>\n",
       "      <th>F</th>\n",
       "      <th>M</th>\n",
       "    </tr>\n",
       "    <tr>\n",
       "      <th>Department</th>\n",
       "      <th></th>\n",
       "      <th></th>\n",
       "    </tr>\n",
       "  </thead>\n",
       "  <tbody>\n",
       "    <tr>\n",
       "      <th>Engineering</th>\n",
       "      <td>80500.000000</td>\n",
       "      <td>83750.0</td>\n",
       "    </tr>\n",
       "    <tr>\n",
       "      <th>HR</th>\n",
       "      <td>50666.666667</td>\n",
       "      <td>52000.0</td>\n",
       "    </tr>\n",
       "    <tr>\n",
       "      <th>Marketing</th>\n",
       "      <td>46666.666667</td>\n",
       "      <td>46500.0</td>\n",
       "    </tr>\n",
       "  </tbody>\n",
       "</table>\n",
       "</div>"
      ],
      "text/plain": [
       "Gender                  F        M\n",
       "Department                        \n",
       "Engineering  80500.000000  83750.0\n",
       "HR           50666.666667  52000.0\n",
       "Marketing    46666.666667  46500.0"
      ]
     },
     "execution_count": 105,
     "metadata": {},
     "output_type": "execute_result"
    }
   ],
   "source": [
    "pivot_table"
   ]
  },
  {
   "cell_type": "markdown",
   "id": "7810de07-dc9a-4b11-9cff-2c13ccb5c93b",
   "metadata": {},
   "source": [
    "## 16 Find all duplicate entries by Name."
   ]
  },
  {
   "cell_type": "code",
   "execution_count": 107,
   "id": "77a4ed53-0cee-44bb-99c3-a73309d312de",
   "metadata": {},
   "outputs": [
    {
     "data": {
      "text/plain": [
       "Name\n",
       "Alice      1\n",
       "Bob        1\n",
       "Charlie    1\n",
       "David      1\n",
       "Eve        1\n",
       "Frank      1\n",
       "Grace      1\n",
       "Hannah     1\n",
       "Ivan       1\n",
       "Julia      1\n",
       "Karl       1\n",
       "Laura      1\n",
       "Mike       1\n",
       "Nina       1\n",
       "Oscar      1\n",
       "Paul       1\n",
       "Queen      1\n",
       "Rick       1\n",
       "Name: count, dtype: int64"
      ]
     },
     "execution_count": 107,
     "metadata": {},
     "output_type": "execute_result"
    }
   ],
   "source": [
    "df['Name'].value_counts()"
   ]
  },
  {
   "cell_type": "code",
   "execution_count": 108,
   "id": "ad838aa5-cbca-4758-adeb-148f0fc62927",
   "metadata": {},
   "outputs": [
    {
     "data": {
      "text/html": [
       "<div>\n",
       "<style scoped>\n",
       "    .dataframe tbody tr th:only-of-type {\n",
       "        vertical-align: middle;\n",
       "    }\n",
       "\n",
       "    .dataframe tbody tr th {\n",
       "        vertical-align: top;\n",
       "    }\n",
       "\n",
       "    .dataframe thead th {\n",
       "        text-align: right;\n",
       "    }\n",
       "</style>\n",
       "<table border=\"1\" class=\"dataframe\">\n",
       "  <thead>\n",
       "    <tr style=\"text-align: right;\">\n",
       "      <th></th>\n",
       "      <th>Name</th>\n",
       "      <th>Age</th>\n",
       "      <th>Gender</th>\n",
       "      <th>Department</th>\n",
       "      <th>Salary</th>\n",
       "      <th>Joining_Date</th>\n",
       "      <th>Rating</th>\n",
       "      <th>New_Salary</th>\n",
       "    </tr>\n",
       "  </thead>\n",
       "  <tbody>\n",
       "  </tbody>\n",
       "</table>\n",
       "</div>"
      ],
      "text/plain": [
       "Empty DataFrame\n",
       "Columns: [Name, Age, Gender, Department, Salary, Joining_Date, Rating, New_Salary]\n",
       "Index: []"
      ]
     },
     "execution_count": 108,
     "metadata": {},
     "output_type": "execute_result"
    }
   ],
   "source": [
    "df[df.duplicated('Name', keep=False)]"
   ]
  },
  {
   "cell_type": "markdown",
   "id": "886109b6-64e1-47e6-82e1-cbc5e6b23625",
   "metadata": {},
   "source": [
    "## 17: Remove rows where rating is below 3 and salary is below 50000."
   ]
  },
  {
   "cell_type": "code",
   "execution_count": 117,
   "id": "776deefd-833d-4787-ae89-55e2d0b9908b",
   "metadata": {},
   "outputs": [],
   "source": [
    "df_filtered = df[~((df['Rating'] < 3) & (df['Salary'] < 50000))]"
   ]
  },
  {
   "cell_type": "code",
   "execution_count": 118,
   "id": "b513d5a1-0543-478c-b488-b0b992b62d5c",
   "metadata": {},
   "outputs": [
    {
     "data": {
      "text/html": [
       "<div>\n",
       "<style scoped>\n",
       "    .dataframe tbody tr th:only-of-type {\n",
       "        vertical-align: middle;\n",
       "    }\n",
       "\n",
       "    .dataframe tbody tr th {\n",
       "        vertical-align: top;\n",
       "    }\n",
       "\n",
       "    .dataframe thead th {\n",
       "        text-align: right;\n",
       "    }\n",
       "</style>\n",
       "<table border=\"1\" class=\"dataframe\">\n",
       "  <thead>\n",
       "    <tr style=\"text-align: right;\">\n",
       "      <th></th>\n",
       "      <th>Name</th>\n",
       "      <th>Age</th>\n",
       "      <th>Gender</th>\n",
       "      <th>Department</th>\n",
       "      <th>Salary</th>\n",
       "      <th>Joining_Date</th>\n",
       "      <th>Rating</th>\n",
       "      <th>New_Salary</th>\n",
       "    </tr>\n",
       "  </thead>\n",
       "  <tbody>\n",
       "    <tr>\n",
       "      <th>0</th>\n",
       "      <td>Alice</td>\n",
       "      <td>25</td>\n",
       "      <td>F</td>\n",
       "      <td>HR</td>\n",
       "      <td>50000</td>\n",
       "      <td>2015-04-12</td>\n",
       "      <td>3.2</td>\n",
       "      <td>50000000</td>\n",
       "    </tr>\n",
       "    <tr>\n",
       "      <th>1</th>\n",
       "      <td>Bob</td>\n",
       "      <td>32</td>\n",
       "      <td>M</td>\n",
       "      <td>Engineering</td>\n",
       "      <td>80000</td>\n",
       "      <td>2012-06-30</td>\n",
       "      <td>4.1</td>\n",
       "      <td>80000000</td>\n",
       "    </tr>\n",
       "    <tr>\n",
       "      <th>2</th>\n",
       "      <td>Charlie</td>\n",
       "      <td>37</td>\n",
       "      <td>M</td>\n",
       "      <td>HR</td>\n",
       "      <td>52000</td>\n",
       "      <td>2018-07-19</td>\n",
       "      <td>3.8</td>\n",
       "      <td>52000000</td>\n",
       "    </tr>\n",
       "    <tr>\n",
       "      <th>3</th>\n",
       "      <td>David</td>\n",
       "      <td>45</td>\n",
       "      <td>M</td>\n",
       "      <td>Engineering</td>\n",
       "      <td>87000</td>\n",
       "      <td>2010-08-01</td>\n",
       "      <td>4.5</td>\n",
       "      <td>87000000</td>\n",
       "    </tr>\n",
       "    <tr>\n",
       "      <th>4</th>\n",
       "      <td>Eve</td>\n",
       "      <td>22</td>\n",
       "      <td>F</td>\n",
       "      <td>Marketing</td>\n",
       "      <td>45000</td>\n",
       "      <td>2019-02-28</td>\n",
       "      <td>3.0</td>\n",
       "      <td>45000000</td>\n",
       "    </tr>\n",
       "    <tr>\n",
       "      <th>6</th>\n",
       "      <td>Grace</td>\n",
       "      <td>41</td>\n",
       "      <td>F</td>\n",
       "      <td>HR</td>\n",
       "      <td>51000</td>\n",
       "      <td>2017-01-10</td>\n",
       "      <td>3.6</td>\n",
       "      <td>51000000</td>\n",
       "    </tr>\n",
       "    <tr>\n",
       "      <th>7</th>\n",
       "      <td>Hannah</td>\n",
       "      <td>36</td>\n",
       "      <td>F</td>\n",
       "      <td>Engineering</td>\n",
       "      <td>78000</td>\n",
       "      <td>2013-09-25</td>\n",
       "      <td>4.2</td>\n",
       "      <td>78000000</td>\n",
       "    </tr>\n",
       "    <tr>\n",
       "      <th>8</th>\n",
       "      <td>Ivan</td>\n",
       "      <td>34</td>\n",
       "      <td>M</td>\n",
       "      <td>Engineering</td>\n",
       "      <td>82000</td>\n",
       "      <td>2014-05-18</td>\n",
       "      <td>4.0</td>\n",
       "      <td>82000000</td>\n",
       "    </tr>\n",
       "    <tr>\n",
       "      <th>9</th>\n",
       "      <td>Julia</td>\n",
       "      <td>28</td>\n",
       "      <td>F</td>\n",
       "      <td>HR</td>\n",
       "      <td>51000</td>\n",
       "      <td>2016-11-01</td>\n",
       "      <td>3.3</td>\n",
       "      <td>51000000</td>\n",
       "    </tr>\n",
       "    <tr>\n",
       "      <th>10</th>\n",
       "      <td>Karl</td>\n",
       "      <td>39</td>\n",
       "      <td>M</td>\n",
       "      <td>Marketing</td>\n",
       "      <td>46000</td>\n",
       "      <td>2019-08-23</td>\n",
       "      <td>3.1</td>\n",
       "      <td>46000000</td>\n",
       "    </tr>\n",
       "    <tr>\n",
       "      <th>11</th>\n",
       "      <td>Laura</td>\n",
       "      <td>30</td>\n",
       "      <td>F</td>\n",
       "      <td>Engineering</td>\n",
       "      <td>83000</td>\n",
       "      <td>2011-12-10</td>\n",
       "      <td>4.4</td>\n",
       "      <td>83000000</td>\n",
       "    </tr>\n",
       "    <tr>\n",
       "      <th>12</th>\n",
       "      <td>Mike</td>\n",
       "      <td>42</td>\n",
       "      <td>M</td>\n",
       "      <td>HR</td>\n",
       "      <td>52000</td>\n",
       "      <td>2015-01-05</td>\n",
       "      <td>3.7</td>\n",
       "      <td>52000000</td>\n",
       "    </tr>\n",
       "    <tr>\n",
       "      <th>14</th>\n",
       "      <td>Oscar</td>\n",
       "      <td>33</td>\n",
       "      <td>M</td>\n",
       "      <td>HR</td>\n",
       "      <td>50000</td>\n",
       "      <td>2018-06-14</td>\n",
       "      <td>3.4</td>\n",
       "      <td>50000000</td>\n",
       "    </tr>\n",
       "    <tr>\n",
       "      <th>15</th>\n",
       "      <td>Paul</td>\n",
       "      <td>38</td>\n",
       "      <td>M</td>\n",
       "      <td>Engineering</td>\n",
       "      <td>86000</td>\n",
       "      <td>2010-03-22</td>\n",
       "      <td>4.6</td>\n",
       "      <td>86000000</td>\n",
       "    </tr>\n",
       "    <tr>\n",
       "      <th>17</th>\n",
       "      <td>Rick</td>\n",
       "      <td>40</td>\n",
       "      <td>M</td>\n",
       "      <td>HR</td>\n",
       "      <td>54000</td>\n",
       "      <td>2013-10-10</td>\n",
       "      <td>3.5</td>\n",
       "      <td>54000000</td>\n",
       "    </tr>\n",
       "  </tbody>\n",
       "</table>\n",
       "</div>"
      ],
      "text/plain": [
       "       Name  Age Gender   Department  Salary Joining_Date  Rating  New_Salary\n",
       "0     Alice   25      F           HR   50000   2015-04-12     3.2    50000000\n",
       "1       Bob   32      M  Engineering   80000   2012-06-30     4.1    80000000\n",
       "2   Charlie   37      M           HR   52000   2018-07-19     3.8    52000000\n",
       "3     David   45      M  Engineering   87000   2010-08-01     4.5    87000000\n",
       "4       Eve   22      F    Marketing   45000   2019-02-28     3.0    45000000\n",
       "6     Grace   41      F           HR   51000   2017-01-10     3.6    51000000\n",
       "7    Hannah   36      F  Engineering   78000   2013-09-25     4.2    78000000\n",
       "8      Ivan   34      M  Engineering   82000   2014-05-18     4.0    82000000\n",
       "9     Julia   28      F           HR   51000   2016-11-01     3.3    51000000\n",
       "10     Karl   39      M    Marketing   46000   2019-08-23     3.1    46000000\n",
       "11    Laura   30      F  Engineering   83000   2011-12-10     4.4    83000000\n",
       "12     Mike   42      M           HR   52000   2015-01-05     3.7    52000000\n",
       "14    Oscar   33      M           HR   50000   2018-06-14     3.4    50000000\n",
       "15     Paul   38      M  Engineering   86000   2010-03-22     4.6    86000000\n",
       "17     Rick   40      M           HR   54000   2013-10-10     3.5    54000000"
      ]
     },
     "execution_count": 118,
     "metadata": {},
     "output_type": "execute_result"
    }
   ],
   "source": [
    "df_filtered"
   ]
  },
  {
   "cell_type": "code",
   "execution_count": null,
   "id": "0992c989-dd77-45f1-9b61-793e188294a3",
   "metadata": {},
   "outputs": [],
   "source": []
  }
 ],
 "metadata": {
  "kernelspec": {
   "display_name": "Python 3 (ipykernel)",
   "language": "python",
   "name": "python3"
  },
  "language_info": {
   "codemirror_mode": {
    "name": "ipython",
    "version": 3
   },
   "file_extension": ".py",
   "mimetype": "text/x-python",
   "name": "python",
   "nbconvert_exporter": "python",
   "pygments_lexer": "ipython3",
   "version": "3.10.16"
  }
 },
 "nbformat": 4,
 "nbformat_minor": 5
}
